{
 "cells": [
  {
   "cell_type": "markdown",
   "metadata": {},
   "source": [
    "# Análisis de datos obtenidos desde un secuenciador masivo\n",
    "\n",
    "Estructura\n",
    "\n",
    "1. Seteo del ambiente\n",
    " - Conda\n",
    " - Jupyter Notebook\n",
    " - Creación de estructura de directorios\n",
    " - Descarga de DNA de referencia\n",
    " - Obtención de archivos desde el secuenciador\n",
    "1. Control de calidad\n",
    "1. Trimming\n",
    "1. Alineamiento de datos podados pareados\n",
    " - Indexación de ADN de referencia\n",
    " - Alineamiento\n",
    "1. Variant calling\n",
    " - Creación de archivo pileup\n",
    " - Llamado de variantes"
   ]
  },
  {
   "cell_type": "code",
   "execution_count": 6,
   "metadata": {},
   "outputs": [
    {
     "name": "stdout",
     "output_type": "stream",
     "text": [
      "Warning: 'bioconda' already in 'channels' list, moving to the top\n"
     ]
    }
   ],
   "source": [
    "!conda config --add channels bioconda"
   ]
  },
  {
   "cell_type": "code",
   "execution_count": 7,
   "metadata": {},
   "outputs": [
    {
     "name": "stdout",
     "output_type": "stream",
     "text": [
      "usage: conda install [-h] [--revision REVISION] [-n ENVIRONMENT | -p PATH]\n",
      "                     [-c CHANNEL] [--use-local] [--override-channels]\n",
      "                     [--repodata-fn REPODATA_FNS] [--experimental {jlap,lock}]\n",
      "                     [--no-lock] [--repodata-use-zst | --no-repodata-use-zst]\n",
      "                     [--strict-channel-priority] [--no-channel-priority]\n",
      "                     [--no-deps | --only-deps] [--no-pin] [--copy]\n",
      "                     [--no-shortcuts] [--shortcuts-only SHORTCUTS_ONLY] [-C]\n",
      "                     [-k] [--offline] [--json] [-v] [-q] [-d] [-y]\n",
      "                     [--download-only] [--show-channel-urls] [--file FILE]\n",
      "                     [--solver {classic,libmamba}] [--force-reinstall]\n",
      "                     [--freeze-installed | --update-deps | -S | --update-all | --update-specs]\n",
      "                     [-m] [--clobber] [--dev]\n",
      "                     [package_spec ...]\n",
      "conda install: error: argument -c/--channel: expected one argument\n",
      "usage: conda install [-h] [--revision REVISION] [-n ENVIRONMENT | -p PATH]\n",
      "                     [-c CHANNEL] [--use-local] [--override-channels]\n",
      "                     [--repodata-fn REPODATA_FNS] [--experimental {jlap,lock}]\n",
      "                     [--no-lock] [--repodata-use-zst | --no-repodata-use-zst]\n",
      "                     [--strict-channel-priority] [--no-channel-priority]\n",
      "                     [--no-deps | --only-deps] [--no-pin] [--copy]\n",
      "                     [--no-shortcuts] [--shortcuts-only SHORTCUTS_ONLY] [-C]\n",
      "                     [-k] [--offline] [--json] [-v] [-q] [-d] [-y]\n",
      "                     [--download-only] [--show-channel-urls] [--file FILE]\n",
      "                     [--solver {classic,libmamba}] [--force-reinstall]\n",
      "                     [--freeze-installed | --update-deps | -S | --update-all | --update-specs]\n",
      "                     [-m] [--clobber] [--dev]\n",
      "                     [package_spec ...]\n",
      "conda install: error: argument -c/--channel: expected one argument\n",
      "usage: conda install [-h] [--revision REVISION] [-n ENVIRONMENT | -p PATH]\n",
      "                     [-c CHANNEL] [--use-local] [--override-channels]\n",
      "                     [--repodata-fn REPODATA_FNS] [--experimental {jlap,lock}]\n",
      "                     [--no-lock] [--repodata-use-zst | --no-repodata-use-zst]\n",
      "                     [--strict-channel-priority] [--no-channel-priority]\n",
      "                     [--no-deps | --only-deps] [--no-pin] [--copy]\n",
      "                     [--no-shortcuts] [--shortcuts-only SHORTCUTS_ONLY] [-C]\n",
      "                     [-k] [--offline] [--json] [-v] [-q] [-d] [-y]\n",
      "                     [--download-only] [--show-channel-urls] [--file FILE]\n",
      "                     [--solver {classic,libmamba}] [--force-reinstall]\n",
      "                     [--freeze-installed | --update-deps | -S | --update-all | --update-specs]\n",
      "                     [-m] [--clobber] [--dev]\n",
      "                     [package_spec ...]\n",
      "conda install: error: argument -c/--channel: expected one argument\n",
      "usage: conda install [-h] [--revision REVISION] [-n ENVIRONMENT | -p PATH]\n",
      "                     [-c CHANNEL] [--use-local] [--override-channels]\n",
      "                     [--repodata-fn REPODATA_FNS] [--experimental {jlap,lock}]\n",
      "                     [--no-lock] [--repodata-use-zst | --no-repodata-use-zst]\n",
      "                     [--strict-channel-priority] [--no-channel-priority]\n",
      "                     [--no-deps | --only-deps] [--no-pin] [--copy]\n",
      "                     [--no-shortcuts] [--shortcuts-only SHORTCUTS_ONLY] [-C]\n",
      "                     [-k] [--offline] [--json] [-v] [-q] [-d] [-y]\n",
      "                     [--download-only] [--show-channel-urls] [--file FILE]\n",
      "                     [--solver {classic,libmamba}] [--force-reinstall]\n",
      "                     [--freeze-installed | --update-deps | -S | --update-all | --update-specs]\n",
      "                     [-m] [--clobber] [--dev]\n",
      "                     [package_spec ...]\n",
      "conda install: error: argument -c/--channel: expected one argument\n",
      "usage: conda install [-h] [--revision REVISION] [-n ENVIRONMENT | -p PATH]\n",
      "                     [-c CHANNEL] [--use-local] [--override-channels]\n",
      "                     [--repodata-fn REPODATA_FNS] [--experimental {jlap,lock}]\n",
      "                     [--no-lock] [--repodata-use-zst | --no-repodata-use-zst]\n",
      "                     [--strict-channel-priority] [--no-channel-priority]\n",
      "                     [--no-deps | --only-deps] [--no-pin] [--copy]\n",
      "                     [--no-shortcuts] [--shortcuts-only SHORTCUTS_ONLY] [-C]\n",
      "                     [-k] [--offline] [--json] [-v] [-q] [-d] [-y]\n",
      "                     [--download-only] [--show-channel-urls] [--file FILE]\n",
      "                     [--solver {classic,libmamba}] [--force-reinstall]\n",
      "                     [--freeze-installed | --update-deps | -S | --update-all | --update-specs]\n",
      "                     [-m] [--clobber] [--dev]\n",
      "                     [package_spec ...]\n",
      "conda install: error: argument -c/--channel: expected one argument\n",
      "usage: conda install [-h] [--revision REVISION] [-n ENVIRONMENT | -p PATH]\n",
      "                     [-c CHANNEL] [--use-local] [--override-channels]\n",
      "                     [--repodata-fn REPODATA_FNS] [--experimental {jlap,lock}]\n",
      "                     [--no-lock] [--repodata-use-zst | --no-repodata-use-zst]\n",
      "                     [--strict-channel-priority] [--no-channel-priority]\n",
      "                     [--no-deps | --only-deps] [--no-pin] [--copy]\n",
      "                     [--no-shortcuts] [--shortcuts-only SHORTCUTS_ONLY] [-C]\n",
      "                     [-k] [--offline] [--json] [-v] [-q] [-d] [-y]\n",
      "                     [--download-only] [--show-channel-urls] [--file FILE]\n",
      "                     [--solver {classic,libmamba}] [--force-reinstall]\n",
      "                     [--freeze-installed | --update-deps | -S | --update-all | --update-specs]\n",
      "                     [-m] [--clobber] [--dev]\n",
      "                     [package_spec ...]\n",
      "conda install: error: argument -c/--channel: expected one argument\n"
     ]
    }
   ],
   "source": [
    "!conda install -c --yes bioconda fastqc # para analizar la calidad de los reads\n",
    "!conda install -c --yes bioconda bwa # para alinear los reads contrar un genoma de referencia\n",
    "!conda install -c --yes bioconda samtools # para transformar el archivo de alieamiento en un formato desplegable de manera gráfica\n",
    "!conda install -c --yes bioconda igv # para visualizar gráficamente los aineamientos\n",
    "!conda install -c --yes bioconda bcftools # para identificar las variantes (mutaciones)\n",
    "!conda install -c --yes conda-forge py-bgzip # para comprimir en DNAref previo al pileup del llamado de variantes"
   ]
  },
  {
   "cell_type": "code",
   "execution_count": 3,
   "metadata": {},
   "outputs": [
    {
     "name": "stdout",
     "output_type": "stream",
     "text": [
      "mkdir: no se puede crear el directorio «DNAref»: El archivo ya existe\n",
      "mkdir: no se puede crear el directorio «RawReads»: El archivo ya existe\n",
      "mkdir: no se puede crear el directorio «Trimmed_reads»: El archivo ya existe\n",
      "mkdir: no se puede crear el directorio «FastQC_trimmedReads»: El archivo ya existe\n",
      "mkdir: no se puede crear el directorio «Variant_calling»: El archivo ya existe\n"
     ]
    }
   ],
   "source": [
    "!mkdir DNAref\n",
    "!mkdir RawReads\n",
    "!mkdir FastQC_rawReads\n",
    "!mkdir Trimmed_reads\n",
    "!mkdir FastQC_trimmedReads\n",
    "!mkdir Aligned_reads\n",
    "!mkdir Variant_calling"
   ]
  },
  {
   "cell_type": "code",
   "execution_count": 9,
   "metadata": {},
   "outputs": [
    {
     "name": "stdout",
     "output_type": "stream",
     "text": [
      "/home/sebe/VIIsem/bioInfo_INFO241/Tareas/Tarea3/Tarea3G3/RawReads\n",
      "ln: fallo al crear el enlace simbólico 'RS3L1R1.fq.gz': El archivo ya existe\n",
      "ln: fallo al crear el enlace simbólico 'RS3L1R2.fq.gz': El archivo ya existe\n",
      "ln: fallo al crear el enlace simbólico 'RS17L1R1.fq.gz': El archivo ya existe\n",
      "ln: fallo al crear el enlace simbólico 'RS17L1R2.fq.gz': El archivo ya existe\n"
     ]
    }
   ],
   "source": [
    "%cd RawReads/\n",
    "# creación de links simbólicos\n",
    "!ln -s Libreria-15-82-R_S3_L001_R1_001.fastq.gz RS3L1R1.fq.gz\n",
    "!ln -s Libreria-15-82-R_S3_L001_R2_001.fastq.gz RS3L1R2.fq.gz\n",
    "!ln -s Libreria-15-86-R_S17_L001_R1_001.fastq.gz RS17L1R1.fq.gz\n",
    "!ln -s Libreria-15-86-R_S17_L001_R2_001.fastq.gz RS17L1R2.fq.gz"
   ]
  },
  {
   "cell_type": "code",
   "execution_count": 13,
   "metadata": {},
   "outputs": [
    {
     "name": "stdout",
     "output_type": "stream",
     "text": [
      "/home/sebe/VIIsem/bioInfo_INFO241/Tareas/Tarea3/Tarea3G3/DNAref\n",
      "--2024-07-08 19:34:58--  https://ftp.ncbi.nlm.nih.gov/genomes/all/GCF/000/001/405/GCF_000001405.40_GRCh38.p14/GCF_000001405.40_GRCh38.p14_genomic.fna.gz\n",
      "Resolviendo ftp.ncbi.nlm.nih.gov (ftp.ncbi.nlm.nih.gov)... 2607:f220:41e:250::10, 2607:f220:41e:250::7, 130.14.250.11, ...\n",
      "Conectando con ftp.ncbi.nlm.nih.gov (ftp.ncbi.nlm.nih.gov)[2607:f220:41e:250::10]:443... conectado.\n",
      "Petición HTTP enviada, esperando respuesta... 200 OK\n",
      "Longitud: 972898531 (928M) [application/x-gzip]\n",
      "Guardando como: ‘GCF_000001405.40_GRCh38.p14_genomic.fna.gz’\n",
      "\n",
      "GCF_000001405.40_GR 100%[===================>] 927,83M  8,52MB/s    en 2m 38s  \n",
      "\n",
      "2024-07-08 19:37:36 (5,88 MB/s) - ‘GCF_000001405.40_GRCh38.p14_genomic.fna.gz’ guardado [972898531/972898531]\n",
      "\n",
      "/home/sebe/VIIsem/bioInfo_INFO241/Tareas/Tarea3/Tarea3G3\n"
     ]
    }
   ],
   "source": [
    "%cd DNAref\n",
    "!wget https://ftp.ncbi.nlm.nih.gov/genomes/all/GCF/000/001/405/GCF_000001405.40_GRCh38.p14/GCF_000001405.40_GRCh38.p14_genomic.fna.gz\n",
    "!wget https://ftp.ncbi.nlm.nih.gov/genomes/all/GCF/000/001/405/GCF_000001405.40_GRCh38.p14/GCF_000001405.40_GRCh38.p14_genomic.gff.gz \n",
    "%cd .."
   ]
  },
  {
   "cell_type": "code",
   "execution_count": null,
   "metadata": {},
   "outputs": [],
   "source": [
    "%cd DNAref\n",
    "!wget https://ftp.ncbi.nlm.nih.gov/genomes/all/GCF/000/001/405/GCF_000001405.40_GRCh38.p14/GCF_000001405.40_GRCh38.p14_genomic.gff.gz \n",
    "%cd .."
   ]
  },
  {
   "cell_type": "markdown",
   "metadata": {},
   "source": [
    "## Secuenciación cruda paciente RS3 FASTQC"
   ]
  },
  {
   "cell_type": "code",
   "execution_count": 1,
   "metadata": {},
   "outputs": [
    {
     "name": "stdout",
     "output_type": "stream",
     "text": [
      "application/gzip\n",
      "Started analysis of RS3L1R1.fq.gz\n",
      "Approx 5% complete for RS3L1R1.fq.gz\n",
      "Approx 10% complete for RS3L1R1.fq.gz\n",
      "Approx 15% complete for RS3L1R1.fq.gz\n",
      "Approx 20% complete for RS3L1R1.fq.gz\n",
      "Approx 25% complete for RS3L1R1.fq.gz\n",
      "Approx 30% complete for RS3L1R1.fq.gz\n",
      "Approx 35% complete for RS3L1R1.fq.gz\n",
      "Approx 40% complete for RS3L1R1.fq.gz\n",
      "Approx 45% complete for RS3L1R1.fq.gz\n",
      "Approx 50% complete for RS3L1R1.fq.gz\n",
      "Approx 55% complete for RS3L1R1.fq.gz\n",
      "Approx 60% complete for RS3L1R1.fq.gz\n",
      "Approx 65% complete for RS3L1R1.fq.gz\n",
      "Approx 70% complete for RS3L1R1.fq.gz\n",
      "Approx 75% complete for RS3L1R1.fq.gz\n",
      "Approx 80% complete for RS3L1R1.fq.gz\n",
      "Approx 85% complete for RS3L1R1.fq.gz\n",
      "Approx 90% complete for RS3L1R1.fq.gz\n",
      "Approx 95% complete for RS3L1R1.fq.gz\n",
      "Analysis complete for RS3L1R1.fq.gz\n",
      "application/gzip\n",
      "Started analysis of RS3L1R2.fq.gz\n",
      "Approx 5% complete for RS3L1R2.fq.gz\n",
      "Approx 10% complete for RS3L1R2.fq.gz\n",
      "Approx 15% complete for RS3L1R2.fq.gz\n",
      "Approx 20% complete for RS3L1R2.fq.gz\n",
      "Approx 25% complete for RS3L1R2.fq.gz\n",
      "Approx 30% complete for RS3L1R2.fq.gz\n",
      "Approx 35% complete for RS3L1R2.fq.gz\n",
      "Approx 40% complete for RS3L1R2.fq.gz\n",
      "Approx 45% complete for RS3L1R2.fq.gz\n",
      "Approx 50% complete for RS3L1R2.fq.gz\n",
      "Approx 55% complete for RS3L1R2.fq.gz\n",
      "Approx 60% complete for RS3L1R2.fq.gz\n",
      "Approx 65% complete for RS3L1R2.fq.gz\n",
      "Approx 70% complete for RS3L1R2.fq.gz\n",
      "Approx 75% complete for RS3L1R2.fq.gz\n",
      "Approx 80% complete for RS3L1R2.fq.gz\n",
      "Approx 85% complete for RS3L1R2.fq.gz\n",
      "Approx 90% complete for RS3L1R2.fq.gz\n",
      "Approx 95% complete for RS3L1R2.fq.gz\n",
      "Analysis complete for RS3L1R2.fq.gz\n"
     ]
    }
   ],
   "source": [
    "!fastqc RawReads/RS3L1R1.fq.gz -o FastQC_rawReads/\n",
    "!fastqc RawReads/RS3L1R2.fq.gz -o FastQC_rawReads/"
   ]
  },
  {
   "cell_type": "markdown",
   "metadata": {},
   "source": [
    "## PODA "
   ]
  },
  {
   "cell_type": "code",
   "execution_count": 4,
   "metadata": {},
   "outputs": [
    {
     "name": "stdout",
     "output_type": "stream",
     "text": [
      "TrimmomaticPE: Started with arguments:\n",
      " RawReads/RS3L1R1.fq.gz RawReads/RS3L1R2.fq.gz Trimmed_reads/p_RS3R1.fq.gz Trimmed_reads/u_RS3R1.fq.gz Trimmed_reads/p_RS3R2.fq.gz Trimmed_reads/u_RS3R2.fq.gz LEADING:3 TRAILING:3 SLIDINGWINDOW:4:20 MINLEN:20\n",
      "Quality encoding detected as phred33\n",
      "Input Read Pairs: 32914 Both Surviving: 25836 (78,50%) Forward Only Surviving: 6831 (20,75%) Reverse Only Surviving: 30 (0,09%) Dropped: 217 (0,66%)\n",
      "TrimmomaticPE: Completed successfully\n"
     ]
    }
   ],
   "source": [
    "!trimmomatic PE RawReads/RS3L1R1.fq.gz RawReads/RS3L1R2.fq.gz Trimmed_reads/p_RS3R1.fq.gz Trimmed_reads/u_RS3R1.fq.gz Trimmed_reads/p_RS3R2.fq.gz Trimmed_reads/u_RS3R2.fq.gz LEADING:3 TRAILING:3 SLIDINGWINDOW:4:20 MINLEN:20"
   ]
  },
  {
   "cell_type": "code",
   "execution_count": 5,
   "metadata": {},
   "outputs": [
    {
     "name": "stdout",
     "output_type": "stream",
     "text": [
      "TrimmomaticPE: Started with arguments:\n",
      " RawReads/RS17L1R1.fq.gz RawReads/RS17L1R2.fq.gz Trimmed_reads/p_RS17R1.fq.gz Trimmed_reads/u_RS17R1.fq.gz Trimmed_reads/p_RS17R2.fq.gz Trimmed_reads/u_RS17R2.fq.gz LEADING:3 TRAILING:3 SLIDINGWINDOW:4:20 MINLEN:20\n",
      "Quality encoding detected as phred33\n",
      "Input Read Pairs: 41779 Both Surviving: 39354 (94,20%) Forward Only Surviving: 2042 (4,89%) Reverse Only Surviving: 222 (0,53%) Dropped: 161 (0,39%)\n",
      "TrimmomaticPE: Completed successfully\n"
     ]
    }
   ],
   "source": [
    "!trimmomatic PE RawReads/RS17L1R1.fq.gz RawReads/RS17L1R2.fq.gz Trimmed_reads/p_RS17R1.fq.gz Trimmed_reads/u_RS17R1.fq.gz Trimmed_reads/p_RS17R2.fq.gz Trimmed_reads/u_RS17R2.fq.gz LEADING:3 TRAILING:3 SLIDINGWINDOW:4:20 MINLEN:20"
   ]
  },
  {
   "cell_type": "code",
   "execution_count": 6,
   "metadata": {},
   "outputs": [
    {
     "name": "stdout",
     "output_type": "stream",
     "text": [
      "application/gzip\n",
      "Started analysis of p_RS17R1.fq.gz\n",
      "Approx 5% complete for p_RS17R1.fq.gz\n",
      "Approx 10% complete for p_RS17R1.fq.gz\n",
      "Approx 15% complete for p_RS17R1.fq.gz\n",
      "Approx 20% complete for p_RS17R1.fq.gz\n",
      "Approx 25% complete for p_RS17R1.fq.gz\n",
      "Approx 30% complete for p_RS17R1.fq.gz\n",
      "Approx 35% complete for p_RS17R1.fq.gz\n",
      "Approx 40% complete for p_RS17R1.fq.gz\n",
      "Approx 45% complete for p_RS17R1.fq.gz\n",
      "Approx 50% complete for p_RS17R1.fq.gz\n",
      "Approx 55% complete for p_RS17R1.fq.gz\n",
      "Approx 60% complete for p_RS17R1.fq.gz\n",
      "Approx 65% complete for p_RS17R1.fq.gz\n",
      "Approx 70% complete for p_RS17R1.fq.gz\n",
      "Approx 75% complete for p_RS17R1.fq.gz\n",
      "Approx 80% complete for p_RS17R1.fq.gz\n",
      "Approx 85% complete for p_RS17R1.fq.gz\n",
      "Approx 90% complete for p_RS17R1.fq.gz\n",
      "Approx 95% complete for p_RS17R1.fq.gz\n",
      "Analysis complete for p_RS17R1.fq.gz\n",
      "application/gzip\n",
      "Started analysis of p_RS17R2.fq.gz\n",
      "Approx 5% complete for p_RS17R2.fq.gz\n",
      "Approx 10% complete for p_RS17R2.fq.gz\n",
      "Approx 15% complete for p_RS17R2.fq.gz\n",
      "Approx 20% complete for p_RS17R2.fq.gz\n",
      "Approx 25% complete for p_RS17R2.fq.gz\n",
      "Approx 30% complete for p_RS17R2.fq.gz\n",
      "Approx 35% complete for p_RS17R2.fq.gz\n",
      "Approx 40% complete for p_RS17R2.fq.gz\n",
      "Approx 45% complete for p_RS17R2.fq.gz\n",
      "Approx 50% complete for p_RS17R2.fq.gz\n",
      "Approx 55% complete for p_RS17R2.fq.gz\n",
      "Approx 60% complete for p_RS17R2.fq.gz\n",
      "Approx 65% complete for p_RS17R2.fq.gz\n",
      "Approx 70% complete for p_RS17R2.fq.gz\n",
      "Approx 75% complete for p_RS17R2.fq.gz\n",
      "Approx 80% complete for p_RS17R2.fq.gz\n",
      "Approx 85% complete for p_RS17R2.fq.gz\n",
      "Approx 90% complete for p_RS17R2.fq.gz\n",
      "Approx 95% complete for p_RS17R2.fq.gz\n",
      "Analysis complete for p_RS17R2.fq.gz\n",
      "application/gzip\n",
      "Started analysis of p_RS3R1.fq.gz\n",
      "Approx 5% complete for p_RS3R1.fq.gz\n",
      "Approx 10% complete for p_RS3R1.fq.gz\n",
      "Approx 15% complete for p_RS3R1.fq.gz\n",
      "Approx 20% complete for p_RS3R1.fq.gz\n",
      "Approx 25% complete for p_RS3R1.fq.gz\n",
      "Approx 30% complete for p_RS3R1.fq.gz\n",
      "Approx 35% complete for p_RS3R1.fq.gz\n",
      "Approx 40% complete for p_RS3R1.fq.gz\n",
      "Approx 45% complete for p_RS3R1.fq.gz\n",
      "Approx 50% complete for p_RS3R1.fq.gz\n",
      "Approx 55% complete for p_RS3R1.fq.gz\n",
      "Approx 60% complete for p_RS3R1.fq.gz\n",
      "Approx 65% complete for p_RS3R1.fq.gz\n",
      "Approx 70% complete for p_RS3R1.fq.gz\n",
      "Approx 75% complete for p_RS3R1.fq.gz\n",
      "Approx 80% complete for p_RS3R1.fq.gz\n",
      "Approx 85% complete for p_RS3R1.fq.gz\n",
      "Approx 90% complete for p_RS3R1.fq.gz\n",
      "Approx 95% complete for p_RS3R1.fq.gz\n",
      "Analysis complete for p_RS3R1.fq.gz\n",
      "application/gzip\n",
      "Started analysis of p_RS3R2.fq.gz\n",
      "Approx 5% complete for p_RS3R2.fq.gz\n",
      "Approx 10% complete for p_RS3R2.fq.gz\n",
      "Approx 15% complete for p_RS3R2.fq.gz\n",
      "Approx 20% complete for p_RS3R2.fq.gz\n",
      "Approx 25% complete for p_RS3R2.fq.gz\n",
      "Approx 30% complete for p_RS3R2.fq.gz\n",
      "Approx 35% complete for p_RS3R2.fq.gz\n",
      "Approx 40% complete for p_RS3R2.fq.gz\n",
      "Approx 45% complete for p_RS3R2.fq.gz\n",
      "Approx 50% complete for p_RS3R2.fq.gz\n",
      "Approx 55% complete for p_RS3R2.fq.gz\n",
      "Approx 60% complete for p_RS3R2.fq.gz\n",
      "Approx 65% complete for p_RS3R2.fq.gz\n",
      "Approx 70% complete for p_RS3R2.fq.gz\n",
      "Approx 75% complete for p_RS3R2.fq.gz\n",
      "Approx 80% complete for p_RS3R2.fq.gz\n",
      "Approx 85% complete for p_RS3R2.fq.gz\n",
      "Approx 90% complete for p_RS3R2.fq.gz\n",
      "Approx 95% complete for p_RS3R2.fq.gz\n",
      "Analysis complete for p_RS3R2.fq.gz\n",
      "application/gzip\n",
      "Started analysis of u_RS17R1.fq.gz\n",
      "Approx 45% complete for u_RS17R1.fq.gz\n",
      "Approx 95% complete for u_RS17R1.fq.gz\n",
      "Analysis complete for u_RS17R1.fq.gz\n",
      "application/gzip\n",
      "Started analysis of u_RS17R2.fq.gz\n",
      "Analysis complete for u_RS17R2.fq.gz\n",
      "application/gzip\n",
      "Started analysis of u_RS3R1.fq.gz\n",
      "Approx 10% complete for u_RS3R1.fq.gz\n",
      "Approx 25% complete for u_RS3R1.fq.gz\n",
      "Approx 40% complete for u_RS3R1.fq.gz\n",
      "Approx 55% complete for u_RS3R1.fq.gz\n",
      "Approx 70% complete for u_RS3R1.fq.gz\n",
      "Approx 85% complete for u_RS3R1.fq.gz\n",
      "Analysis complete for u_RS3R1.fq.gz\n",
      "application/gzip\n",
      "Started analysis of u_RS3R2.fq.gz\n",
      "Analysis complete for u_RS3R2.fq.gz\n"
     ]
    }
   ],
   "source": [
    "!for i in `ls Trimmed_reads/*.fq.gz`; do fastqc $i -o FastQC_trimmedReads/; done"
   ]
  },
  {
   "cell_type": "markdown",
   "metadata": {},
   "source": [
    "indexacion de adn referencia"
   ]
  },
  {
   "cell_type": "code",
   "execution_count": 1,
   "metadata": {},
   "outputs": [
    {
     "name": "stdout",
     "output_type": "stream",
     "text": [
      "[bwa_index] Pack FASTA... 26.41 sec\n",
      "[bwa_index] Construct BWT for the packed sequence...\n",
      "[BWTIncCreate] textLength=6596861272, availableWord=476179232\n",
      "[BWTIncConstructFromPacked] 10 iterations done. 99999992 characters processed.\n",
      "[BWTIncConstructFromPacked] 20 iterations done. 199999992 characters processed.\n",
      "[BWTIncConstructFromPacked] 30 iterations done. 299999992 characters processed.\n",
      "[BWTIncConstructFromPacked] 40 iterations done. 399999992 characters processed.\n",
      "[BWTIncConstructFromPacked] 50 iterations done. 499999992 characters processed.\n",
      "[BWTIncConstructFromPacked] 60 iterations done. 599999992 characters processed.\n",
      "[BWTIncConstructFromPacked] 70 iterations done. 699999992 characters processed.\n",
      "[BWTIncConstructFromPacked] 80 iterations done. 799999992 characters processed.\n",
      "[BWTIncConstructFromPacked] 90 iterations done. 899999992 characters processed.\n",
      "[BWTIncConstructFromPacked] 100 iterations done. 999999992 characters processed.\n",
      "[BWTIncConstructFromPacked] 110 iterations done. 1099999992 characters processed.\n",
      "[BWTIncConstructFromPacked] 120 iterations done. 1199999992 characters processed.\n",
      "[BWTIncConstructFromPacked] 130 iterations done. 1299999992 characters processed.\n",
      "[BWTIncConstructFromPacked] 140 iterations done. 1399999992 characters processed.\n",
      "[BWTIncConstructFromPacked] 150 iterations done. 1499999992 characters processed.\n",
      "[BWTIncConstructFromPacked] 160 iterations done. 1599999992 characters processed.\n",
      "[BWTIncConstructFromPacked] 170 iterations done. 1699999992 characters processed.\n",
      "[BWTIncConstructFromPacked] 180 iterations done. 1799999992 characters processed.\n",
      "[BWTIncConstructFromPacked] 190 iterations done. 1899999992 characters processed.\n",
      "[BWTIncConstructFromPacked] 200 iterations done. 1999999992 characters processed.\n",
      "[BWTIncConstructFromPacked] 210 iterations done. 2099999992 characters processed.\n",
      "[BWTIncConstructFromPacked] 220 iterations done. 2199999992 characters processed.\n",
      "[BWTIncConstructFromPacked] 230 iterations done. 2299999992 characters processed.\n",
      "[BWTIncConstructFromPacked] 240 iterations done. 2399999992 characters processed.\n",
      "[BWTIncConstructFromPacked] 250 iterations done. 2499999992 characters processed.\n",
      "[BWTIncConstructFromPacked] 260 iterations done. 2599999992 characters processed.\n",
      "[BWTIncConstructFromPacked] 270 iterations done. 2699999992 characters processed.\n",
      "[BWTIncConstructFromPacked] 280 iterations done. 2799999992 characters processed.\n",
      "[BWTIncConstructFromPacked] 290 iterations done. 2899999992 characters processed.\n",
      "[BWTIncConstructFromPacked] 300 iterations done. 2999999992 characters processed.\n",
      "[BWTIncConstructFromPacked] 310 iterations done. 3099999992 characters processed.\n",
      "[BWTIncConstructFromPacked] 320 iterations done. 3199999992 characters processed.\n",
      "[BWTIncConstructFromPacked] 330 iterations done. 3299999992 characters processed.\n",
      "[BWTIncConstructFromPacked] 340 iterations done. 3399999992 characters processed.\n",
      "[BWTIncConstructFromPacked] 350 iterations done. 3499999992 characters processed.\n",
      "[BWTIncConstructFromPacked] 360 iterations done. 3599999992 characters processed.\n",
      "[BWTIncConstructFromPacked] 370 iterations done. 3699999992 characters processed.\n",
      "[BWTIncConstructFromPacked] 380 iterations done. 3799999992 characters processed.\n",
      "[BWTIncConstructFromPacked] 390 iterations done. 3899999992 characters processed.\n",
      "[BWTIncConstructFromPacked] 400 iterations done. 3999999992 characters processed.\n",
      "[BWTIncConstructFromPacked] 410 iterations done. 4099999992 characters processed.\n",
      "[BWTIncConstructFromPacked] 420 iterations done. 4199999992 characters processed.\n",
      "[BWTIncConstructFromPacked] 430 iterations done. 4299999992 characters processed.\n",
      "[BWTIncConstructFromPacked] 440 iterations done. 4399999992 characters processed.\n",
      "[BWTIncConstructFromPacked] 450 iterations done. 4499999992 characters processed.\n",
      "[BWTIncConstructFromPacked] 460 iterations done. 4599999992 characters processed.\n",
      "[BWTIncConstructFromPacked] 470 iterations done. 4699999992 characters processed.\n",
      "[BWTIncConstructFromPacked] 480 iterations done. 4799999992 characters processed.\n",
      "[BWTIncConstructFromPacked] 490 iterations done. 4899999992 characters processed.\n",
      "[BWTIncConstructFromPacked] 500 iterations done. 4999999992 characters processed.\n",
      "[BWTIncConstructFromPacked] 510 iterations done. 5099999992 characters processed.\n",
      "[BWTIncConstructFromPacked] 520 iterations done. 5199999992 characters processed.\n",
      "[BWTIncConstructFromPacked] 530 iterations done. 5299999992 characters processed.\n",
      "[BWTIncConstructFromPacked] 540 iterations done. 5399999992 characters processed.\n",
      "[BWTIncConstructFromPacked] 550 iterations done. 5499999992 characters processed.\n",
      "[BWTIncConstructFromPacked] 560 iterations done. 5599999992 characters processed.\n",
      "[BWTIncConstructFromPacked] 570 iterations done. 5699999992 characters processed.\n",
      "[BWTIncConstructFromPacked] 580 iterations done. 5799999992 characters processed.\n",
      "[BWTIncConstructFromPacked] 590 iterations done. 5899999992 characters processed.\n",
      "[BWTIncConstructFromPacked] 600 iterations done. 5996509032 characters processed.\n",
      "[BWTIncConstructFromPacked] 610 iterations done. 6082533112 characters processed.\n",
      "[BWTIncConstructFromPacked] 620 iterations done. 6158987528 characters processed.\n",
      "[BWTIncConstructFromPacked] 630 iterations done. 6226936392 characters processed.\n",
      "[BWTIncConstructFromPacked] 640 iterations done. 6287325512 characters processed.\n",
      "[BWTIncConstructFromPacked] 650 iterations done. 6340995480 characters processed.\n",
      "[BWTIncConstructFromPacked] 660 iterations done. 6388693480 characters processed.\n",
      "[BWTIncConstructFromPacked] 670 iterations done. 6431083592 characters processed.\n",
      "[BWTIncConstructFromPacked] 680 iterations done. 6468755960 characters processed.\n",
      "[BWTIncConstructFromPacked] 690 iterations done. 6502235256 characters processed.\n",
      "[BWTIncConstructFromPacked] 700 iterations done. 6531987704 characters processed.\n",
      "[BWTIncConstructFromPacked] 710 iterations done. 6558427720 characters processed.\n",
      "[BWTIncConstructFromPacked] 720 iterations done. 6581923640 characters processed.\n",
      "[bwt_gen] Finished constructing BWT in 728 iterations.\n",
      "[bwa_index] 2716.81 seconds elapse.\n",
      "[bwa_index] Update BWT... /bin/bash: línea 1:  4344 Terminado (killed)      bwa index DNAref/GCF_000001405.40_GRCh38.p14_genomic.fna.gz\n",
      "\n",
      "real\t45m59,128s\n",
      "user\t45m39,703s\n",
      "sys\t0m12,688s\n"
     ]
    }
   ],
   "source": [
    "!time bwa index DNAref/GCF_000001405.40_GRCh38.p14_genomic.fna.gz"
   ]
  },
  {
   "cell_type": "markdown",
   "metadata": {},
   "source": [
    "## ALINEAMIENTO"
   ]
  },
  {
   "cell_type": "code",
   "execution_count": 5,
   "metadata": {},
   "outputs": [
    {
     "name": "stdout",
     "output_type": "stream",
     "text": [
      "[bwt_restore_sa] fail to open file 'DNAref/GCF_000001405.40_GRCh38.p14_genomic.fna.gz.sa' : No such file or directory\n"
     ]
    }
   ],
   "source": [
    "!bwa mem DNAref/GCF_000001405.40_GRCh38.p14_genomic.fna.gz Trimmed_reads/p_RS3R1.fq.gz Trimmed_reads/p_RS3R2.fq.gz > Aligned_reads/trimPairedRS3.sam"
   ]
  },
  {
   "cell_type": "code",
   "execution_count": 6,
   "metadata": {},
   "outputs": [
    {
     "name": "stdout",
     "output_type": "stream",
     "text": [
      "[bwt_restore_sa] fail to open file 'DNAref/GCF_000001405.40_GRCh38.p14_genomic.fna.gz.sa' : No such file or directory\n"
     ]
    }
   ],
   "source": [
    "!bwa mem DNAref/GCF_000001405.40_GRCh38.p14_genomic.fna.gz Trimmed_reads/p_RS17R1.fq Trimmed_reads/p_RS17R2.fq > Aligned_reads/trimPairedRS17.sam"
   ]
  },
  {
   "cell_type": "markdown",
   "metadata": {},
   "source": [
    "###  Para verlo con IGV"
   ]
  },
  {
   "cell_type": "code",
   "execution_count": null,
   "metadata": {},
   "outputs": [],
   "source": [
    "%cd Align_reads/\n",
    "!samtools sort trimPaired.sam -o sorted_trimPaired.bam\n",
    "!samtools index sorted_trimPaired.bam\n",
    "%cd .."
   ]
  },
  {
   "cell_type": "code",
   "execution_count": null,
   "metadata": {},
   "outputs": [],
   "source": [
    "!igv Aligned_reads/sorted_trimPaired.bam"
   ]
  },
  {
   "cell_type": "markdown",
   "metadata": {},
   "source": [
    "## Variant calling"
   ]
  },
  {
   "cell_type": "code",
   "execution_count": null,
   "metadata": {},
   "outputs": [],
   "source": [
    "!gunzip DNAref/GCF_000001405.40_GRCh38.p14_genomic.fna.gz #descomprimir .gz\n",
    "!bgzip DNAref/GCF_000001405.40_GRCh38.p14_genomic.fna # volver a comprimir el FASTA con bgzip\n"
   ]
  },
  {
   "cell_type": "code",
   "execution_count": null,
   "metadata": {},
   "outputs": [],
   "source": [
    "!samtools mpileup Align_reads/sorted_trimPaired.bam -g -f DNAref/GCF_000001405.40_GRCh38.p14_genomic.fna.gz > Variant_calling/pileup.bcf"
   ]
  }
 ],
 "metadata": {
  "kernelspec": {
   "display_name": "Python 3",
   "language": "python",
   "name": "python3"
  },
  "language_info": {
   "codemirror_mode": {
    "name": "ipython",
    "version": 3
   },
   "file_extension": ".py",
   "mimetype": "text/x-python",
   "name": "python",
   "nbconvert_exporter": "python",
   "pygments_lexer": "ipython3",
   "version": "3.10.12"
  }
 },
 "nbformat": 4,
 "nbformat_minor": 2
}
